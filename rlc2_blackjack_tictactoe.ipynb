{
 "cells": [
  {
   "cell_type": "markdown",
   "metadata": {},
   "source": [
    "# CM 50270 Reinforcement Learning: Coursework 2 \n",
    "\n",
    "**Date set:** March 12, 2018 \n",
    "\n",
    "**Date due:** 8 pm on March 21, 2018 \n",
    "\n",
    "**Total number of marks:** 100. (This coursework will determine 20% of your final grade for CM 50270.)\n",
    "\n",
    "**What to submit:** Completed Jupyter notebook (.ipynb file) that includes all source code. Please do not change the file name.\n",
    "\n",
    "**Where to submit:** CM50270 Moodle page\n",
    "\n",
    "This coursework will be __marked anonymously__. Please do not include any identifying information on the files you submit. \n",
    "\n",
    "You are required to __work individually__. You are welcome to discuss ideas with others but you must design your own implementation and write your own code.\n",
    "\n",
    "__Do not plagiarise__. Plagiarism is a serious academic offence. For details on what it is and how to avoid it, please visit the following webpage: http://www.bath.ac.uk/library/help/infoguides/plagiarism.html\n",
    "\n",
    "Restart the kernel and run all cells before submitting the notebook. This will guarantee that we will be able to run your code for testing.\n",
    "\n",
    "Remember to save your work regularly. "
   ]
  },
  {
   "cell_type": "markdown",
   "metadata": {},
   "source": [
    "## Exercise 1: Blackjack (20 marks)\n",
    "\n",
    "In this first exercise, you will implement **Monte Carlo Policy Evaluation (MCPE)** to learn the state-value function $V(s)$ for a given policy in the game of [blackjack](https://en.wikipedia.org/wiki/Blackjack)."
   ]
  },
  {
   "cell_type": "markdown",
   "metadata": {},
   "source": [
    "### The game\n",
    "\n",
    "**Rules.** We will use the version of the game discussed in the lectures where a single player (the agent) plays against the dealer. The player's objective is to obtain cards whose sum is as large as possible without exceeding 21. All face cards count as 10; an ace can count as either 1 or 11.\n",
    "\n",
    "The game begins with two cards dealt to both the dealer and the player. The first of the dealer’s cards is face down and the second is face up. If the player has 21 immediately (for example, an ace and a face card), it is called a \"blackjack\". The player then wins unless the dealer also has a blackjack, in which case the game is a draw. If the player does not have a blackjack, then she can request additional cards, one by one (_hits_), until she either stops (_sticks_) or exceeds 21 (_goes bust_). If the player goes bust, she loses; if she sticks, then it becomes the dealer’s turn. \n",
    "\n",
    "The dealer hits or sticks according to a fixed strategy without choice: he sticks on any sum of 17 or greater, hits otherwise. If the dealer goes bust, then the player wins; otherwise, the outcome (win, lose, or draw) is determined by whose final sum is closer to 21.\n",
    "\n",
    "**MDP formulation.** Playing blackjack is naturally formulated as an episodic finite MDP. Each game of blackjack is an episode. Rewards of +1, −1, and 0 are given for winning, losing, and drawing, respectively. All rewards until the end of the game are zero. We do not discount ($\\gamma = 1$); therefore these terminal rewards are also the returns. The player’s actions are to `\"hit\"` or to `\"stick\"`. \n",
    "\n",
    "The states depend on the player’s cards and the dealer’s showing card. Assume that cards are dealt from an infinite deck (that is, with replacement) so that there is no advantage to keeping track of the cards already dealt. If the player holds an ace that she could count as 11 without going bust, then the ace is said to be _usable_. In this case it is always counted as 11 because counting it as 1 would make the sum 11 or less, in which case there is no decision to be made because, obviously, the player should always hit. Thus, the player makes decisions on the basis of three variables: \n",
    "- the player's current sum (an integer between 12 and 21);\n",
    "- the dealer’s one showing card (an integer between 1 and 10; note that the ace is counted as 1 here); and\n",
    "- whether or not the player holds a usable ace (a boolean). \n",
    "\n",
    "This makes for a total of 200 states. We represent the state as a numpy-array of length 3 that combines the just mentioned three variables in the given order. For example, if the player is given a 6 and a _jack_, and the dealer's showing card is an ace, the corresponding state will be the numpy array `[16, 1, False]`. The terminal state of the game will be denoted by the numpy array `[-1, -1, -1]`."
   ]
  },
  {
   "cell_type": "markdown",
   "metadata": {},
   "source": [
    "###  Blackjack code you may use if you wish\n",
    "\n",
    "** Please feel free to skip this section and implement your own blackjack code **\n",
    "\n",
    "We provide a `Blackjack` class that you can use to simulate blackjack games. The following cells in this section will walk you through the basic usage of this class by playing a couple of blackjack games.  \n",
    "\n",
    "We import the blackjack module and create a blackjack environmnet called `env`. The constructor method has one argument called `verbose`. If `verbose=True`, the blackjack object will regularly print the progress of the game. This is useful for getting to know the game and the provided code or if you just want to play around. You may want to set `verbose=False` when you run thousands of episodes to complete the exercise below."
   ]
  },
  {
   "cell_type": "code",
   "execution_count": 1,
   "metadata": {
    "collapsed": true
   },
   "outputs": [],
   "source": [
    "import blackjack\n",
    "env = blackjack.Blackjack(verbose=True)"
   ]
  },
  {
   "cell_type": "markdown",
   "metadata": {},
   "source": [
    "You can interact with the blackjack environment using the `make_step()` method. This method takes an `action` as input and computes the response of the environment. Specifically, this method returns the resulting `new_state` and the corresponding `reward` signal.\n",
    "\n",
    "Before the player can perform actions, we have to start the game (e.g., draw starting hands). In order to start or reset a blackjack game, call the `make_step()` without specifying a specific action or by setting `action=\"reset\"`.\n",
    "\n",
    "We will now walk through several example games. We will specify a [random seed](https://en.wikipedia.org/wiki/Random_seed) for the NumPy pseudo random number generator every time before we reset the game. This allows us to keep these examples reproducible."
   ]
  },
  {
   "cell_type": "code",
   "execution_count": 2,
   "metadata": {},
   "outputs": [
    {
     "name": "stdout",
     "output_type": "stream",
     "text": [
      "The game is reset.\n",
      "Player's cards: [10, 10]\n",
      "Dealer's showing card: [7]\n",
      "Initial state: [20  7  0]\n",
      "Reward: 0\n"
     ]
    }
   ],
   "source": [
    "import numpy as np\n",
    "np.random.seed(8)\n",
    "new_state, reward = env.make_step(action=\"reset\")\n",
    "print(\"Initial state:\", new_state)\n",
    "print(\"Reward:\", reward)"
   ]
  },
  {
   "cell_type": "markdown",
   "metadata": {},
   "source": [
    "The player drew two cards with face value 10 each. The dealer also drew two cards, but we can only see the second card, a 7. The player now can choose to \"hit\" or \"stick\". Most players would stick if they had 20 on their hand. We call again the `make_step()` method and specify `action=\"stick\"`."
   ]
  },
  {
   "cell_type": "code",
   "execution_count": 3,
   "metadata": {},
   "outputs": [
    {
     "name": "stdout",
     "output_type": "stream",
     "text": [
      "The dealer's cards are: [10, 7]\n",
      "The dealer has 17 points.\n",
      "PLAYER WINS!\n",
      "The player obtains a reward of 1\n",
      "The new (terminal) state is: [-1 -1 -1]\n"
     ]
    }
   ],
   "source": [
    "new_state, reward = env.make_step(action = \"stick\")\n",
    "print(\"The player obtains a reward of\", reward)\n",
    "print(\"The new (terminal) state is:\", new_state)"
   ]
  },
  {
   "cell_type": "markdown",
   "metadata": {},
   "source": [
    "The player won and received a reward of 1. Whenever an episode ends, the environment object sets the internal variable `self.active` to `False`. This variable is set to `True` again when we _reset_ the game. You can use the `self.active` variable to check whether an episode has ended or not."
   ]
  },
  {
   "cell_type": "code",
   "execution_count": 4,
   "metadata": {},
   "outputs": [
    {
     "name": "stdout",
     "output_type": "stream",
     "text": [
      "The game is reset.\n",
      "Player's cards: [11, 7]\n",
      "Dealer's showing card: [2]\n",
      "New state: [18  2  1]\n"
     ]
    }
   ],
   "source": [
    "np.random.seed(9)\n",
    "new_state, reward = env.make_step(action=\"reset\")\n",
    "print(\"New state:\", new_state)"
   ]
  },
  {
   "cell_type": "markdown",
   "metadata": {},
   "source": [
    "The player has already 18 points but has a _usable ace_, which she can transfer into a 1 whenever she would _go bust_. The player can thus \"hit\" and hope that she gets closer to 21. "
   ]
  },
  {
   "cell_type": "code",
   "execution_count": 5,
   "metadata": {},
   "outputs": [
    {
     "name": "stdout",
     "output_type": "stream",
     "text": [
      "Player draws card: [2]\n",
      "New sum of player's cards: [20]\n"
     ]
    }
   ],
   "source": [
    "new_state, reward = env.make_step(action = \"hit\")"
   ]
  },
  {
   "cell_type": "markdown",
   "metadata": {},
   "source": [
    "Great! The player got another 2 points and has again 20 points. The player would probably want to \"stick\" again..."
   ]
  },
  {
   "cell_type": "code",
   "execution_count": 6,
   "metadata": {},
   "outputs": [
    {
     "name": "stdout",
     "output_type": "stream",
     "text": [
      "The dealer's cards are: [7, 2]\n",
      "The dealer has 9 points.\n",
      "Dealer draws card: [3]\n",
      "New dealer sum [12]\n",
      "Dealer draws card: [6]\n",
      "New dealer sum [18]\n",
      "PLAYER WINS!\n"
     ]
    }
   ],
   "source": [
    "new_state, reward = env.make_step(action = \"stick\")"
   ]
  },
  {
   "cell_type": "markdown",
   "metadata": {},
   "source": [
    "The player won again! Let's play a last one."
   ]
  },
  {
   "cell_type": "code",
   "execution_count": 7,
   "metadata": {},
   "outputs": [
    {
     "name": "stdout",
     "output_type": "stream",
     "text": [
      "The game is reset.\n",
      "Player's cards: [11, 10]\n",
      "Dealer's showing card: [10]\n",
      "Player has Blackjack!\n",
      "The dealer's cards are: [6, 10]\n",
      "PLAYER WINS!\n",
      "Reward: 1\n"
     ]
    }
   ],
   "source": [
    "np.random.seed(7)\n",
    "new_state, reward = env.make_step()\n",
    "print(\"Reward:\", reward)"
   ]
  },
  {
   "cell_type": "markdown",
   "metadata": {},
   "source": [
    "The player drew a \"Blackjack\", that is, an ace and a 10. The dealer's cards valued 16. The player won again and received a reward without having performed an action. Try out some more games to get familiar with the code!"
   ]
  },
  {
   "cell_type": "markdown",
   "metadata": {},
   "source": [
    "### Instructions\n",
    "\n",
    "Your task is to learn the state-value function for the policy **\"Stick if the player's sum is 19 or higher, and hit otherwise.\"**. Your code should compute these state values using **Monte Carlo Policy Evaluation (MCPE)**. For your reference, the pseudo-code for MCPE is reproduced below from the textbook (Reinforcement Learning, Sutton & Barto, 1998, Section 5.1).\n",
    "<img src=\"images/MCPE.png\" style=\"width: 400px;\"/>\n",
    "The provided pseudo-code shows _first-visit_ MCPE. No state occurs twice during one game (episode) of Blackjack. In this case, first-visit MCPE and every-visit MCPE are identical.\n",
    "\n",
    "You will have to provide a function `get_state_value(s, v)` that takes as input a state `s` (a numpy array of length 3 as described in the MDP formulation of blackjack) and the state values `v` that you computed. The `get_state_value(s, v)` should return the correponding state value $V(s)$ as a float. There are no restrictions on how you store the state values `v`.\n",
    "\n",
    "We will mark your code by calling `get_state_value(s, v)` for different states valid states `s` in the _test cell_."
   ]
  },
  {
   "cell_type": "code",
   "execution_count": 30,
   "metadata": {
    "deletable": false,
    "nbgrader": {
     "checksum": "7051cb2b547a6f02d56440d85ed9d198",
     "grade": false,
     "grade_id": "cell-a46757fc05631afe",
     "locked": false,
     "schema_version": 1,
     "solution": true
    },
    "scrolled": true
   },
   "outputs": [
    {
     "name": "stdout",
     "output_type": "stream",
     "text": [
      "State:  (12, 1, 0) \tValue:  -0.41935483870967744\n",
      "State:  (12, 1, 1) \tValue:  0.0\n",
      "State:  (12, 2, 0) \tValue:  -0.35789473684210527\n",
      "State:  (12, 2, 1) \tValue:  0.0\n",
      "State:  (12, 3, 0) \tValue:  -0.3854166666666667\n",
      "State:  (12, 3, 1) \tValue:  0.0\n",
      "State:  (12, 4, 0) \tValue:  -0.308411214953271\n",
      "State:  (12, 4, 1) \tValue:  0.0\n",
      "State:  (12, 5, 0) \tValue:  -0.2926829268292683\n",
      "State:  (12, 5, 1) \tValue:  0.0\n",
      "State:  (12, 6, 0) \tValue:  -0.3125\n",
      "State:  (12, 6, 1) \tValue:  0.0\n",
      "State:  (12, 7, 0) \tValue:  -0.18085106382978725\n",
      "State:  (12, 7, 1) \tValue:  0.0\n",
      "State:  (12, 8, 0) \tValue:  -0.32051282051282054\n",
      "State:  (12, 8, 1) \tValue:  0.0\n",
      "State:  (12, 9, 0) \tValue:  -0.2882882882882883\n",
      "State:  (12, 9, 1) \tValue:  0.0\n",
      "State:  (12, 10, 0) \tValue:  -0.2784090909090909\n",
      "State:  (12, 10, 1) \tValue:  0.0\n",
      "State:  (13, 1, 0) \tValue:  -0.4482758620689655\n",
      "State:  (13, 1, 1) \tValue:  0.0\n",
      "State:  (13, 2, 0) \tValue:  -0.4574468085106383\n",
      "State:  (13, 2, 1) \tValue:  0.0\n",
      "State:  (13, 3, 0) \tValue:  -0.40425531914893614\n",
      "State:  (13, 3, 1) \tValue:  0.0\n",
      "State:  (13, 4, 0) \tValue:  -0.2926829268292683\n",
      "State:  (13, 4, 1) \tValue:  0.0\n",
      "State:  (13, 5, 0) \tValue:  -0.3333333333333333\n",
      "State:  (13, 5, 1) \tValue:  0.0\n",
      "State:  (13, 6, 0) \tValue:  -0.3977272727272727\n",
      "State:  (13, 6, 1) \tValue:  0.0\n",
      "State:  (13, 7, 0) \tValue:  -0.4090909090909091\n",
      "State:  (13, 7, 1) \tValue:  0.0\n",
      "State:  (13, 8, 0) \tValue:  -0.5\n",
      "State:  (13, 8, 1) \tValue:  0.0\n",
      "State:  (13, 9, 0) \tValue:  -0.47959183673469385\n",
      "State:  (13, 9, 1) \tValue:  0.0\n",
      "State:  (13, 10, 0) \tValue:  -0.4065040650406504\n",
      "State:  (13, 10, 1) \tValue:  0.0\n",
      "State:  (14, 1, 0) \tValue:  -0.5\n",
      "State:  (14, 1, 1) \tValue:  0.0\n",
      "State:  (14, 2, 0) \tValue:  -0.4148936170212766\n",
      "State:  (14, 2, 1) \tValue:  0.0\n",
      "State:  (14, 3, 0) \tValue:  -0.4583333333333333\n",
      "State:  (14, 3, 1) \tValue:  0.0\n",
      "State:  (14, 4, 0) \tValue:  -0.4666666666666667\n",
      "State:  (14, 4, 1) \tValue:  0.0\n",
      "State:  (14, 5, 0) \tValue:  -0.4583333333333333\n",
      "State:  (14, 5, 1) \tValue:  0.0\n",
      "State:  (14, 6, 0) \tValue:  -0.3804347826086957\n",
      "State:  (14, 6, 1) \tValue:  0.0\n",
      "State:  (14, 7, 0) \tValue:  -0.49\n",
      "State:  (14, 7, 1) \tValue:  0.0\n",
      "State:  (14, 8, 0) \tValue:  -0.5061728395061729\n",
      "State:  (14, 8, 1) \tValue:  0.0\n",
      "State:  (14, 9, 0) \tValue:  -0.4953271028037383\n",
      "State:  (14, 9, 1) \tValue:  0.0\n",
      "State:  (14, 10, 0) \tValue:  -0.4740740740740741\n",
      "State:  (14, 10, 1) \tValue:  0.0\n",
      "State:  (15, 1, 0) \tValue:  -0.45348837209302323\n",
      "State:  (15, 1, 1) \tValue:  0.0\n",
      "State:  (15, 2, 0) \tValue:  -0.54\n",
      "State:  (15, 2, 1) \tValue:  0.0\n",
      "State:  (15, 3, 0) \tValue:  -0.5392156862745098\n",
      "State:  (15, 3, 1) \tValue:  0.0\n",
      "State:  (15, 4, 0) \tValue:  -0.4791666666666667\n",
      "State:  (15, 4, 1) \tValue:  0.0\n",
      "State:  (15, 5, 0) \tValue:  -0.4857142857142857\n",
      "State:  (15, 5, 1) \tValue:  0.0\n",
      "State:  (15, 6, 0) \tValue:  -0.54\n",
      "State:  (15, 6, 1) \tValue:  0.0\n",
      "State:  (15, 7, 0) \tValue:  -0.5789473684210527\n",
      "State:  (15, 7, 1) \tValue:  0.0\n",
      "State:  (15, 8, 0) \tValue:  -0.5494505494505495\n",
      "State:  (15, 8, 1) \tValue:  0.0\n",
      "State:  (15, 9, 0) \tValue:  -0.5638297872340425\n",
      "State:  (15, 9, 1) \tValue:  0.0\n",
      "State:  (15, 10, 0) \tValue:  -0.5241730279898219\n",
      "State:  (15, 10, 1) \tValue:  0.0\n",
      "State:  (16, 1, 0) \tValue:  -0.631578947368421\n",
      "State:  (16, 1, 1) \tValue:  0.0\n",
      "State:  (16, 2, 0) \tValue:  -0.5977011494252874\n",
      "State:  (16, 2, 1) \tValue:  0.0\n",
      "State:  (16, 3, 0) \tValue:  -0.5333333333333333\n",
      "State:  (16, 3, 1) \tValue:  0.0\n",
      "State:  (16, 4, 0) \tValue:  -0.7155963302752294\n",
      "State:  (16, 4, 1) \tValue:  0.0\n",
      "State:  (16, 5, 0) \tValue:  -0.5172413793103449\n",
      "State:  (16, 5, 1) \tValue:  0.0\n",
      "State:  (16, 6, 0) \tValue:  -0.6346153846153846\n",
      "State:  (16, 6, 1) \tValue:  0.0\n",
      "State:  (16, 7, 0) \tValue:  -0.616822429906542\n",
      "State:  (16, 7, 1) \tValue:  0.0\n",
      "State:  (16, 8, 0) \tValue:  -0.5666666666666667\n",
      "State:  (16, 8, 1) \tValue:  0.0\n",
      "State:  (16, 9, 0) \tValue:  -0.69\n",
      "State:  (16, 9, 1) \tValue:  0.0\n",
      "State:  (16, 10, 0) \tValue:  -0.6100478468899522\n",
      "State:  (16, 10, 1) \tValue:  0.0\n",
      "State:  (17, 1, 0) \tValue:  -0.6548672566371682\n",
      "State:  (17, 1, 1) \tValue:  0.0\n",
      "State:  (17, 2, 0) \tValue:  -0.6224489795918368\n",
      "State:  (17, 2, 1) \tValue:  0.0\n",
      "State:  (17, 3, 0) \tValue:  -0.6764705882352942\n",
      "State:  (17, 3, 1) \tValue:  0.0\n",
      "State:  (17, 4, 0) \tValue:  -0.6578947368421053\n",
      "State:  (17, 4, 1) \tValue:  0.0\n",
      "State:  (17, 5, 0) \tValue:  -0.6410256410256411\n",
      "State:  (17, 5, 1) \tValue:  0.0\n",
      "State:  (17, 6, 0) \tValue:  -0.7\n",
      "State:  (17, 6, 1) \tValue:  0.0\n",
      "State:  (17, 7, 0) \tValue:  -0.8\n",
      "State:  (17, 7, 1) \tValue:  0.0\n",
      "State:  (17, 8, 0) \tValue:  -0.6477272727272727\n",
      "State:  (17, 8, 1) \tValue:  0.0\n",
      "State:  (17, 9, 0) \tValue:  -0.696078431372549\n",
      "State:  (17, 9, 1) \tValue:  0.0\n",
      "State:  (17, 10, 0) \tValue:  -0.6829896907216495\n",
      "State:  (17, 10, 1) \tValue:  0.0\n",
      "State:  (18, 1, 0) \tValue:  -0.8181818181818182\n",
      "State:  (18, 1, 1) \tValue:  0.0\n",
      "State:  (18, 2, 0) \tValue:  -0.71900826446281\n",
      "State:  (18, 2, 1) \tValue:  0.0\n",
      "State:  (18, 3, 0) \tValue:  -0.7238095238095238\n",
      "State:  (18, 3, 1) \tValue:  0.0\n",
      "State:  (18, 4, 0) \tValue:  -0.8018867924528302\n",
      "State:  (18, 4, 1) \tValue:  0.0\n",
      "State:  (18, 5, 0) \tValue:  -0.7657657657657657\n",
      "State:  (18, 5, 1) \tValue:  0.0\n",
      "State:  (18, 6, 0) \tValue:  -0.719626168224299\n",
      "State:  (18, 6, 1) \tValue:  0.0\n",
      "State:  (18, 7, 0) \tValue:  -0.7678571428571429\n",
      "State:  (18, 7, 1) \tValue:  0.0\n",
      "State:  (18, 8, 0) \tValue:  -0.7226277372262774\n",
      "State:  (18, 8, 1) \tValue:  0.0\n",
      "State:  (18, 9, 0) \tValue:  -0.7238095238095238\n",
      "State:  (18, 9, 1) \tValue:  0.0\n",
      "State:  (18, 10, 0) \tValue:  -0.7881548974943052\n",
      "State:  (18, 10, 1) \tValue:  0.0\n",
      "State:  (19, 1, 0) \tValue:  -0.11578947368421053\n",
      "State:  (19, 1, 1) \tValue:  -0.10526315789473684\n",
      "State:  (19, 2, 0) \tValue:  0.4117647058823529\n",
      "State:  (19, 2, 1) \tValue:  0.15\n",
      "State:  (19, 3, 0) \tValue:  0.5054945054945055\n",
      "State:  (19, 3, 1) \tValue:  0.6\n",
      "State:  (19, 4, 0) \tValue:  0.39285714285714285\n",
      "State:  (19, 4, 1) \tValue:  0.36363636363636365\n",
      "State:  (19, 5, 0) \tValue:  0.42276422764227645\n",
      "State:  (19, 5, 1) \tValue:  0.631578947368421\n",
      "State:  (19, 6, 0) \tValue:  0.6041666666666666\n",
      "State:  (19, 6, 1) \tValue:  0.2857142857142857\n",
      "State:  (19, 7, 0) \tValue:  0.6814159292035398\n",
      "State:  (19, 7, 1) \tValue:  0.6428571428571429\n",
      "State:  (19, 8, 0) \tValue:  0.5\n",
      "State:  (19, 8, 1) \tValue:  0.5217391304347826\n",
      "State:  (19, 9, 0) \tValue:  0.21311475409836064\n",
      "State:  (19, 9, 1) \tValue:  0.2857142857142857\n",
      "State:  (19, 10, 0) \tValue:  0.021634615384615384\n",
      "State:  (19, 10, 1) \tValue:  0.10714285714285714\n",
      "State:  (20, 1, 0) \tValue:  0.008403361344537815\n",
      "State:  (20, 1, 1) \tValue:  0.4444444444444444\n",
      "State:  (20, 2, 0) \tValue:  0.7161290322580646\n",
      "State:  (20, 2, 1) \tValue:  0.5454545454545454\n",
      "State:  (20, 3, 0) \tValue:  0.5952380952380952\n",
      "State:  (20, 3, 1) \tValue:  0.8823529411764706\n",
      "State:  (20, 4, 0) \tValue:  0.7397260273972602\n",
      "State:  (20, 4, 1) \tValue:  0.6538461538461539\n",
      "State:  (20, 5, 0) \tValue:  0.6617647058823529\n",
      "State:  (20, 5, 1) \tValue:  0.8636363636363636\n",
      "State:  (20, 6, 0) \tValue:  0.7253521126760564\n",
      "State:  (20, 6, 1) \tValue:  0.6923076923076923\n",
      "State:  (20, 7, 0) \tValue:  0.8666666666666667\n",
      "State:  (20, 7, 1) \tValue:  0.6111111111111112\n",
      "State:  (20, 8, 0) \tValue:  0.835820895522388\n",
      "State:  (20, 8, 1) \tValue:  0.7692307692307693\n",
      "State:  (20, 9, 0) \tValue:  0.7213114754098361\n",
      "State:  (20, 9, 1) \tValue:  0.5833333333333334\n",
      "State:  (20, 10, 0) \tValue:  0.4234875444839858\n",
      "State:  (20, 10, 1) \tValue:  0.3787878787878788\n",
      "State:  (21, 1, 0) \tValue:  0.7346938775510204\n",
      "State:  (21, 1, 1) \tValue:  0.8\n",
      "State:  (21, 2, 0) \tValue:  0.86\n",
      "State:  (21, 2, 1) \tValue:  1.0\n",
      "State:  (21, 3, 0) \tValue:  0.8260869565217391\n",
      "State:  (21, 3, 1) \tValue:  0.6\n",
      "State:  (21, 4, 0) \tValue:  0.8909090909090909\n",
      "State:  (21, 4, 1) \tValue:  0.6666666666666666\n",
      "State:  (21, 5, 0) \tValue:  0.8947368421052632\n",
      "State:  (21, 5, 1) \tValue:  0.8571428571428571\n",
      "State:  (21, 6, 0) \tValue:  0.8392857142857143\n",
      "State:  (21, 6, 1) \tValue:  1.0\n",
      "State:  (21, 7, 0) \tValue:  0.9\n",
      "State:  (21, 7, 1) \tValue:  1.0\n",
      "State:  (21, 8, 0) \tValue:  0.9333333333333333\n",
      "State:  (21, 8, 1) \tValue:  1.0\n",
      "State:  (21, 9, 0) \tValue:  0.9803921568627451\n",
      "State:  (21, 9, 1) \tValue:  0.6666666666666666\n",
      "State:  (21, 10, 0) \tValue:  0.8789237668161435\n",
      "State:  (21, 10, 1) \tValue:  0.9333333333333333\n"
     ]
    }
   ],
   "source": [
    "# This cell should compute the state values 'v' using MCPE.\n",
    "import blackjack\n",
    "\n",
    "env = blackjack.Blackjack(verbose=False)\n",
    "\n",
    "def policy(state):\n",
    "    if state[0] >= 19:\n",
    "        action = \"stick\"\n",
    "    else:\n",
    "        action = \"hit\"\n",
    "    return action\n",
    "\n",
    "num_episodes = 10000\n",
    "\n",
    "v = {}\n",
    "\n",
    "for player_sum in range(12, 22):\n",
    "    for dealer_sum in range(1, 11):\n",
    "        for usable_ace in range(0, 2):\n",
    "            v[(player_sum, dealer_sum, usable_ace)] = 0\n",
    "\n",
    "#print(len(v))\n",
    "#print(v)\n",
    "\n",
    "rewards = v.copy()\n",
    "visited_states = v.copy()\n",
    "\n",
    "for episode in range(1, num_episodes + 1):\n",
    "    state, _ = env.make_step(action=\"reset\")\n",
    "    while state[0] != -1:\n",
    "        action = policy(state)\n",
    "        new_state, reward = env.make_step(action)\n",
    "        rewards[tuple(state)] += reward\n",
    "        visited_states[tuple(state)] += 1\n",
    "        state = new_state\n",
    " \n",
    "#print(rewards)\n",
    "#print(visited_states)\n",
    "\n",
    "for key, value in v.items():\n",
    "    v[key] = rewards[key] / visited_states[key]\n",
    "for key, value in v.items():\n",
    "    print(\"State: \", key, \"\\tValue: \", value)\n",
    "    \n",
    "#print(v)"
   ]
  },
  {
   "cell_type": "code",
   "execution_count": 36,
   "metadata": {
    "deletable": false,
    "nbgrader": {
     "checksum": "348e28b866f0bc3d77e4ddd1a3c726ee",
     "grade": false,
     "grade_id": "cell-cddecbc6ed38c8c8",
     "locked": false,
     "schema_version": 1,
     "solution": true
    }
   },
   "outputs": [
    {
     "name": "stdout",
     "output_type": "stream",
     "text": [
      "0.835820895522388\n"
     ]
    }
   ],
   "source": [
    "# Complete the function definition for get_state_value(s,v) in this cell.\n",
    "def get_state_value(s, v):\n",
    "    \n",
    "    state = tuple(s)\n",
    "    value_of_s = v[state]\n",
    "    \n",
    "    return value_of_s\n",
    "\n",
    "print(get_state_value([20,8,0], v))\n"
   ]
  },
  {
   "cell_type": "code",
   "execution_count": null,
   "metadata": {
    "collapsed": true,
    "deletable": false,
    "editable": false,
    "nbgrader": {
     "checksum": "adda36d51c2da2acf4620abdcc6d3d6f",
     "grade": true,
     "grade_id": "cell-3345547d747d76e4",
     "locked": true,
     "points": 20,
     "schema_version": 1,
     "solution": false
    }
   },
   "outputs": [],
   "source": [
    "# This is the TEST CELL for Exercise 1. We will use it to mark your solution. \n",
    "# All of your code for Exercise 1 must be written above this cell. "
   ]
  },
  {
   "cell_type": "markdown",
   "metadata": {},
   "source": [
    "## Exercise 2: Tic-Tac-Toe (80 marks)\n",
    "\n",
    "In this exercise you will implement the game of [Tic-Tac-Toe](https://en.wikipedia.org/wiki/Tic-tac-toe) (also known as _noughts and crosses_) and learn an optimal policy using **Q-learning**. You will then implement **SARSA** and compare the two learning approaches with each other."
   ]
  },
  {
   "cell_type": "markdown",
   "metadata": {},
   "source": [
    "### The game\n",
    "\n",
    "Tic-Tac-Toe is a paper-and-pencil game for two players, O and X, who take turns marking the spaces in a 3×3 grid. The player who succeeds in placing three of their marks in a horizontal, vertical, or diagonal row wins the game. The following example game is won by player X (example from [Wikipedia](https://en.wikipedia.org/wiki/Tic-tac-toe)):\n",
    "<img src=\"images/tic-tac-toe_WIKI.png\" style=\"width: 600px;\"/> "
   ]
  },
  {
   "cell_type": "markdown",
   "metadata": {},
   "source": [
    "### Instructions\n",
    "Implement the game of Tic-Tac-Toe. The first-moving player is randomly chosen at the beginning of each episode. Rewards of +1, −1, and 0 are given for winning, losing, and drawing, respectively. All rewards within a game are zero; do not discount ($\\gamma = 1$). Player X will always be played by a _random agent_. This agent randomly chooses one of the empty grid spaces and marks it with \"X\". You will implement different agents for Player O.\n",
    "\n",
    "We will ask you to plot your results and to discuss the produced plots. Please make sure to **label your figures appropriately**. Please only use plotting packages that come pre-installed with Anaconda 3. We recommend the package `matplotlib` (the tutorial provided in the first lab contains a whole section on matplotlib)."
   ]
  },
  {
   "cell_type": "markdown",
   "metadata": {},
   "source": [
    "### Exercise 2a: Random policy against a random policy (10 marks)\n",
    "Test your Tic-Tac-Toe implementation by letting two random agents play against each other. Plot the cumulative rewards of both O and X as a function of the number of episodes played. "
   ]
  },
  {
   "cell_type": "code",
   "execution_count": 8,
   "metadata": {},
   "outputs": [
    {
     "data": {
      "image/png": "[encoded data removed]",
      "text/plain": [
       "<matplotlib.figure.Figure at 0x11397f5f8>"
      ]
     },
     "metadata": {},
     "output_type": "display_data"
    }
   ],
   "source": [
    "### Your code for Exercise 2a\n",
    "import random\n",
    "import itertools\n",
    "import matplotlib.pyplot as plt\n",
    "%matplotlib inline\n",
    "\n",
    "class Tictactoe():\n",
    "    \n",
    "    def __init__(self):\n",
    "        self.players = {\"O\": 1, \"X\": 2}\n",
    "        self.winners = np.array([\n",
    "            [0, 1, 2], [3, 4, 5], [6, 7, 8],\n",
    "            [0, 3, 6], [1, 4, 7], [2, 5, 8],\n",
    "            [0, 4, 8], [2, 4, 6]\n",
    "            ])\n",
    "        self.board = self.create_board()\n",
    "\n",
    "    def create_board(self):\n",
    "        return np.zeros(9, dtype=int)\n",
    "\n",
    "    def print_board(self):\n",
    "        b = np.reshape(self.board, (3,3))\n",
    "        print(b)\n",
    "\n",
    "    def choose_move(self):\n",
    "        valid_moves = []\n",
    "\n",
    "        for i in range(9):\n",
    "            if self.board[i] == 0:\n",
    "                valid_moves.append(i)\n",
    "        \n",
    "        move = random.choice(valid_moves)\n",
    "        return move\n",
    "\n",
    "    def make_move(self, player, move):\n",
    "        piece = self.players[player]\n",
    "        #print(piece)\n",
    "        self.board[move] = piece\n",
    "\n",
    "    def check_win(self):\n",
    "        for _, player in self.players.items():\n",
    "            for row in self.winners:\n",
    "                if all([self.board[cell] == player for cell in row]):\n",
    "                    return player\n",
    "\n",
    "        for i in range(9):\n",
    "            if self.board[i] == 0:\n",
    "                return None # No one has won yet\n",
    "\n",
    "        # Otherwise, game is a draw\n",
    "        return 0\n",
    "\n",
    "    def play(self):\n",
    "        #board = create_board()\n",
    "        #print_board(board)\n",
    "        p = list(self.players.items())\n",
    "        random.shuffle(p)\n",
    "        #print(p[0])\n",
    "        for player, _ in itertools.cycle(p):\n",
    "            move = self.choose_move()\n",
    "            self.make_move(player, move)\n",
    "            winner = self.check_win()\n",
    "            if winner != None:\n",
    "                #if winner == 0:\n",
    "                    # Game is a draw\n",
    "                    #print(\"Game is a draw\")\n",
    "                #elif winner == 1:\n",
    "                    #print(\"Player O wins\")\n",
    "                #elif winner == 2:\n",
    "                    #print(\"Player X wins\")\n",
    "                #print(winner)\n",
    "                return winner\n",
    "    \n",
    "\n",
    "\n",
    "\n",
    "num_episodes = 50000\n",
    "\n",
    "results_O = np.zeros(num_episodes)\n",
    "results_X = np.zeros(num_episodes)\n",
    "\n",
    "for episode in range(num_episodes):\n",
    "    t = Tictactoe()\n",
    "    result = t.play()\n",
    "    #print(t.board)\n",
    "    if result == 0:\n",
    "        results_O[episode] = 0\n",
    "        results_X[episode] = 0\n",
    "    elif result == 1:\n",
    "        results_O[episode] = 1\n",
    "        results_X[episode] = -1\n",
    "    elif result == 2:\n",
    "        results_O[episode] = -1\n",
    "        results_X[episode] = 1\n",
    "\n",
    "#print(results_O)\n",
    "#print(results_X)\n",
    "\n",
    "cum_results_O = np.cumsum(results_O)\n",
    "cum_results_X = np.cumsum(results_X)\n",
    "\n",
    "#print(cum_results_O)\n",
    "#print(cum_results_X)\n",
    "\n",
    "plt.plot(cum_results_O, color=\"red\", label=\"Player O\")\n",
    "plt.plot(cum_results_X, color=\"blue\", label=\"Player X\")\n",
    "plt.xlabel(\"Episode\")\n",
    "plt.ylabel(\"Cumulative reward\")\n",
    "plt.legend()\n",
    "plt.show()"
   ]
  },
  {
   "cell_type": "markdown",
   "metadata": {
    "deletable": false,
    "nbgrader": {
     "checksum": "0aae921bb892e1a5feb2970404acf1b6",
     "grade": true,
     "grade_id": "cell-9e4fd5649d4c3263",
     "locked": false,
     "points": 10,
     "schema_version": 1,
     "solution": true
    }
   },
   "source": [
    "In a few sentences, discuss your results. Did you expect these results? Why or why not? (We will mark only the first three sentences. Please do not write any longer than that.) \n",
    "\n",
    "The cumulative returns of player O and X are equal and opposite, as expected for Tic-tac-toe which is a zero-sum game. Neither player has a clear advantage as the number of episodes increases because both players are random and who moves first is also random.\n",
    "\n"
   ]
  },
  {
   "cell_type": "markdown",
   "metadata": {},
   "source": [
    "### Exercise 2b: Q-learning (20 marks)\n",
    "Use Q-learning to learn an optimal policy for playing Tic-Tac-Toe against a random opponent. Produce a learning curve for your agent. That is, (1) plot average return as a function of episodes, (2) the learning curve should plot the average return of many agents (please specify how many agents you are averaging). \n",
    "\n",
    "For your reference, the pseudo-code for Q-learning is reproduced below from the textbook (Reinforcement Learning, Sutton & Barto, 1998, Section 6.5).\n",
    "<img src=\"images/q_learning.png\" style=\"width: 600px;\"/>\n",
    " "
   ]
  },
  {
   "cell_type": "code",
   "execution_count": 2,
   "metadata": {
    "collapsed": true
   },
   "outputs": [],
   "source": [
    "import numpy as np\n",
    "import random\n",
    "\n",
    "class Tictactoe_Q():\n",
    "    \n",
    "    def __init__(self):\n",
    "        self.players = {\"Q\": 1, \"R\": 2}\n",
    "        self.winners = np.array([\n",
    "            [0, 1, 2], [3, 4, 5], [6, 7, 8],\n",
    "            [0, 3, 6], [1, 4, 7], [2, 5, 8],\n",
    "            [0, 4, 8], [2, 4, 6]\n",
    "            ])\n",
    "        self.board = self.create_board()\n",
    "        self.done = 0\n",
    "\n",
    "    def create_board(self):\n",
    "        return np.zeros(9, dtype=int)\n",
    "\n",
    "    def print_board(self):\n",
    "        b = np.reshape(self.board, (3,3))\n",
    "        print(b)\n",
    "\n",
    "    def get_available_actions(self):\n",
    "        valid_moves = []\n",
    "\n",
    "        for i in range(9):\n",
    "            if self.board[i] == 0:\n",
    "                valid_moves.append(i)\n",
    "        \n",
    "        return valid_moves\n",
    "\n",
    "    def make_move(self, player, move):\n",
    "        piece = self.players[player]\n",
    "        #print(piece)\n",
    "        self.board[move] = piece\n",
    "    \n",
    "    def is_done(self):\n",
    "        return self.done\n",
    "\n",
    "    def check_win(self):\n",
    "        for _, player in self.players.items():\n",
    "            for row in self.winners:\n",
    "                if all([self.board[cell] == player for cell in row]):\n",
    "                    self.done = 1\n",
    "                    return player\n",
    "\n",
    "        for i in range(9):\n",
    "            if self.board[i] == 0:\n",
    "                return None # No one has won yet\n",
    "\n",
    "        # Otherwise, game is a draw\n",
    "        self.done = 1\n",
    "        return 0\n"
   ]
  },
  {
   "cell_type": "code",
   "execution_count": 3,
   "metadata": {
    "collapsed": true
   },
   "outputs": [],
   "source": [
    "t = Tictactoe_Q()\n",
    "t.make_move(\"Q\", 4)"
   ]
  },
  {
   "cell_type": "code",
   "execution_count": 12,
   "metadata": {
    "scrolled": false
   },
   "outputs": [
    {
     "data": {
      "image/png": "[encoded data removed]",
      "text/plain": [
       "<matplotlib.figure.Figure at 0x10ac78e48>"
      ]
     },
     "metadata": {},
     "output_type": "display_data"
    }
   ],
   "source": [
    "### Use this cell to produce the learning curve for Exercise 2b\n",
    "import itertools\n",
    "import matplotlib.pyplot as plt\n",
    "%matplotlib inline\n",
    "\n",
    "class RandomAgent():\n",
    "    \n",
    "    def __init__(self):\n",
    "        pass\n",
    "    \n",
    "    def choose_action(self, available_actions):\n",
    "        return random.choice(available_actions)\n",
    "\n",
    "\n",
    "class QLearningAgent():\n",
    "    def __init__(self, alpha, gamma, epsilon):\n",
    "        self.alpha = alpha\n",
    "        self.gamma = gamma\n",
    "        self.epsilon = epsilon\n",
    "        self.Q = {}\n",
    "        self.prev_state = None\n",
    "        self.prev_q = 0.0\n",
    "        self.prev_state_action = None\n",
    "        \n",
    "    def reset(self):\n",
    "        self.prev_state = None\n",
    "        self.prev_q = 0.0\n",
    "        self.prev_state_action = None\n",
    "    \n",
    "    def choose_action(self, available_actions, state):\n",
    "        self.prev_state = state\n",
    "        \n",
    "        if np.random.uniform(0, 1) < self.epsilon:\n",
    "            action = random.choice(available_actions)\n",
    "            self.prev_q = self.getQ(self.prev_state, action)\n",
    "            self.prev_state_action = (self.prev_state, action)\n",
    "            return action\n",
    "        else:\n",
    "            qs = [self.getQ(state, action) for action in available_actions]\n",
    "            #print(\"qs:\", qs)\n",
    "            maxQ = max(qs)\n",
    "            if qs.count(maxQ) > 1:\n",
    "                best = [i for i in range(len(available_actions)) if qs[i] == maxQ]\n",
    "                i = random.choice(best)\n",
    "            else:\n",
    "                i = qs.index(maxQ)\n",
    "        \n",
    "        action = available_actions[i]\n",
    "        self.prev_q = self.getQ(self.prev_state, action)\n",
    "        self.prev_state_action = (self.prev_state, action)\n",
    "        \n",
    "        return action\n",
    "    \n",
    "    def getQ(self, state, action):\n",
    "        if(self.Q.get((state, action))) is None:\n",
    "            self.Q[(state, action)] = 0.0\n",
    "        return self.Q.get((state,action))\n",
    "    \n",
    "    def updateQ(self, state, reward, available_actions):\n",
    "        qs = []\n",
    "        for action in available_actions:\n",
    "            qs.append(self.getQ(tuple(state), action))\n",
    "        if qs:\n",
    "            max_next_Q = max(qs)\n",
    "        else:\n",
    "            max_next_Q = 0.0\n",
    "        self.Q[self.prev_state_action] = ((1 - self.alpha) * self.prev_q) + (self.alpha * (reward + self.gamma * max_next_Q))\n",
    "\n",
    "\n",
    "\n",
    "def play(q_agent, random_agent, n_episodes):\n",
    "    for episode in range(n_episodes):\n",
    "        #print(\"\\nEpisode\\n\")\n",
    "        reward = 0\n",
    "        env = Tictactoe_Q()\n",
    "        players = [\"Q\", \"R\"]\n",
    "        random.shuffle(players)\n",
    "        i = 0\n",
    "        while not env.is_done():\n",
    "            player = players[i % 2]\n",
    "            #print(player, \"'s turn\")\n",
    "            state = env.board\n",
    "            #env.print_board()\n",
    "            available_actions = env.get_available_actions()\n",
    "\n",
    "            if player == \"Q\":\n",
    "                chosen_action = q_agent.choose_action(available_actions, tuple(state))\n",
    "            else:\n",
    "                chosen_action = random_agent.choose_action(available_actions)\n",
    "\n",
    "            env.make_move(player, chosen_action)\n",
    "            winner = env.check_win()\n",
    "            if winner != None:\n",
    "                #print(\"Winner:\", winner)\n",
    "                if winner == 0:\n",
    "                    reward = 0\n",
    "                    reward_array[episode] += 0\n",
    "                elif winner == 1:\n",
    "                    reward = 1\n",
    "                    reward_array[episode] += 1\n",
    "                elif winner == 2:\n",
    "                    reward = -1\n",
    "                    reward_array[episode] += -1\n",
    "                q_agent.updateQ(tuple(state), reward, available_actions)\n",
    "                break\n",
    "                \n",
    "            if player == \"Q\":\n",
    "                q_agent.updateQ(tuple(state), reward, available_actions)\n",
    "            #q_agent.updateQ(tuple(state), reward, available_actions)\n",
    "\n",
    "            i += 1\n",
    "    \n",
    "    Q_array.append(q_agent.Q)\n",
    "\n",
    "    \n",
    "alpha = 0.1\n",
    "gamma = 1\n",
    "epsilon = 0.1\n",
    "#initial_Q = 0\n",
    "\n",
    "n_episodes = 10000\n",
    "n_agents = 10\n",
    "\n",
    "reward_array = np.zeros(n_episodes)\n",
    "Q_array = []\n",
    "\n",
    "for i in range(n_agents):\n",
    "\n",
    "    random_agent = RandomAgent()\n",
    "    q_agent = QLearningAgent(alpha, gamma, epsilon)\n",
    "    \n",
    "    play(q_agent, random_agent, n_episodes)\n",
    "    \n",
    "    \n",
    "#print(reward_array)            \n",
    "\n",
    "#cum_reward_array = np.cumsum(reward_array)\n",
    "\n",
    "#print(q_agent.Q)\n",
    "\n",
    "average_returns = np.zeros(n_episodes)\n",
    "for i in range(0, n_episodes):\n",
    "    #print(reward_array[i], cum_reward_array[i])\n",
    "    #average_returns[i] = (cum_reward_array[i] / n_agents) #/ (i + 1)\n",
    "    average_returns[i] = (reward_array[i] / n_agents) #/ (i + 1)\n",
    "\n",
    "plt.plot(average_returns, color=\"blue\", label=\"Average for 10 agents\")\n",
    "plt.title(\"Average return for 10 agents\")\n",
    "plt.xlabel(\"Episode\")\n",
    "plt.ylabel(\"Average return\")\n",
    "plt.legend()\n",
    "plt.show()"
   ]
  },
  {
   "cell_type": "markdown",
   "metadata": {
    "deletable": false,
    "nbgrader": {
     "checksum": "72aafcf5d5929352251f33bf2045b5a5",
     "grade": true,
     "grade_id": "cell-666a718dba214767",
     "locked": false,
     "points": 20,
     "schema_version": 1,
     "solution": true
    }
   },
   "source": [
    "In 3 sentences or less, (1) explain the state representation you used, (2) discuss the learning curve you produced. \n"
   ]
  },
  {
   "cell_type": "markdown",
   "metadata": {},
   "source": [
    "### Exercise 2c: Optimal policy (20 marks)\n",
    "What is the optimal play for the agent in the following state? You must answer by writing a function that takes a state as input and _prints_ the \"after-state\" that would result from playing an optimal action. The printed output can be primitive but the board has to be somewhat recognizable.   <img src=\"images/tic_tac_toe.png\" style=\"width: 80px;\"/> "
   ]
  },
  {
   "cell_type": "code",
   "execution_count": 139,
   "metadata": {},
   "outputs": [
    {
     "name": "stdout",
     "output_type": "stream",
     "text": [
      "[[1 2 0]\n",
      " [0 2 0]\n",
      " [0 1 0]]\n",
      "Action: 2 Value 0.0\n",
      "Action: 3 Value 0.0\n",
      "Action: 5 Value 0.0\n",
      "Action: 6 Value 0.0\n",
      "Action: 7 Value 0.0\n",
      "Action: 8 Value 0.0\n",
      "Action: 0 Value 0.0\n",
      "38578\n",
      "2147\n"
     ]
    }
   ],
   "source": [
    "### You may use this code cell to answer Exercise 2c.\n",
    "\n",
    "def optimal_policy(state):\n",
    "    count1 = 0\n",
    "    count2 = 0\n",
    "    for Q_table in Q_array:\n",
    "    \n",
    "        for key, value in q_agent.Q.items():\n",
    "            count1 += 1\n",
    "            #print(key)\n",
    "            if key[0] == tuple(state):\n",
    "                #print(\"Found\")\n",
    "                print(\"Action:\", key[1], \"Value\", value)\n",
    "            if value > 0:\n",
    "                count2 += 1\n",
    "    #return q_agent.Q[tuple(state)]\n",
    "    print(count1)\n",
    "    print(count2)\n",
    "\n",
    "state = np.array([1, 2, 0, 0, 2, 0, 0, 1, 0])\n",
    "b = np.reshape(state, (3,3))\n",
    "print(b)\n",
    "\n",
    "optimal_policy(state)"
   ]
  },
  {
   "cell_type": "markdown",
   "metadata": {
    "deletable": false,
    "nbgrader": {
     "checksum": "46351da3e17c7fa3a0c4c0682a8fc786",
     "grade": true,
     "grade_id": "cell-3cd9113829d5b715",
     "locked": false,
     "points": 20,
     "schema_version": 1,
     "solution": true
    }
   },
   "source": [
    "Please ignore this cell. We will use this cell to mark your answer. \n"
   ]
  },
  {
   "cell_type": "markdown",
   "metadata": {},
   "source": [
    "### Exercise 2d: Sarsa (40 marks)\n",
    "Implement Sarsa to learn how to play Tic-tac-toe against a random player. Produce a learning curve. Also include the learning curve of your previously trained Q-learning agent in the same plot. Discuss the learning curves. For your reference, the pseudo-code for SARSA is reproduced below from the textbook (Reinforcement Learning, Sutton & Barto, 1998, Section 6.4).\n",
    "<img src=\"images/SARSA.png\" style=\"width: 600px;\"/>\n",
    "\n"
   ]
  },
  {
   "cell_type": "code",
   "execution_count": null,
   "metadata": {
    "collapsed": true
   },
   "outputs": [],
   "source": [
    "### Use this cell to produce the plot for Exercise 2d\n",
    "\n",
    "import itertools\n",
    "import matplotlib.pyplot as plt\n",
    "%matplotlib inline\n",
    "\n",
    "class RandomAgent():\n",
    "    \n",
    "    def __init__(self):\n",
    "        pass\n",
    "    \n",
    "    def choose_action(self, available_actions):\n",
    "        return random.choice(available_actions)\n",
    "\n",
    "\n",
    "class SarsaAgent():\n",
    "    def __init__(self, alpha, gamma, epsilon):\n",
    "        self.alpha = alpha\n",
    "        self.gamma = gamma\n",
    "        self.epsilon = epsilon\n",
    "        self.Q = {}\n",
    "        self.prev_state = None\n",
    "        self.prev_q = 0.0\n",
    "        self.prev_state_action = None\n",
    "        \n",
    "    def reset(self):\n",
    "        self.prev_state = None\n",
    "        self.prev_q = 0.0\n",
    "        self.prev_state_action = None\n",
    "    \n",
    "    def choose_action(self, available_actions, state):\n",
    "        self.prev_state = state\n",
    "        \n",
    "        if np.random.uniform(0, 1) < self.epsilon:\n",
    "            action = random.choice(available_actions)\n",
    "            self.prev_q = self.getQ(self.prev_state, action)\n",
    "            self.prev_state_action = (self.prev_state, action)\n",
    "            return action\n",
    "        else:\n",
    "            qs = [self.getQ(state, action) for action in available_actions]\n",
    "            #print(\"qs:\", qs)\n",
    "            maxQ = max(qs)\n",
    "            if qs.count(maxQ) > 1:\n",
    "                best = [i for i in range(len(available_actions)) if qs[i] == maxQ]\n",
    "                i = random.choice(best)\n",
    "            else:\n",
    "                i = qs.index(maxQ)\n",
    "        \n",
    "        action = available_actions[i]\n",
    "        self.prev_q = self.getQ(self.prev_state, action)\n",
    "        self.prev_state_action = (self.prev_state, action)\n",
    "        \n",
    "        return action\n",
    "    \n",
    "    def getQ(self, state, action):\n",
    "        if(self.Q.get((state, action))) is None:\n",
    "            self.Q[(state, action)] = 0.0\n",
    "        return self.Q.get((state,action))\n",
    "    \n",
    "    def updateQ(self, state, reward, available_actions):\n",
    "        qs = []\n",
    "        for action in available_actions:\n",
    "            qs.append(self.getQ(tuple(state), action))\n",
    "        if qs:\n",
    "            max_next_Q = max(qs)\n",
    "        else:\n",
    "            max_next_Q = 0.0\n",
    "        self.Q[self.prev_state_action] = ((1 - self.alpha) * self.prev_q) + (self.alpha * (reward + self.gamma * max_next_Q))\n",
    "\n",
    "alpha = 0.1\n",
    "gamma = 1\n",
    "epsilon = 0.05\n",
    "initial_Q = 0\n",
    "\n",
    "n_episodes = 5000\n",
    "\n",
    "reward_array = np.zeros(n_episodes)\n",
    "Q_array = []\n",
    "\n",
    "for i in range(10):\n",
    "\n",
    "    random_agent = RandomAgent()\n",
    "    sarsa_agent = SarsaAgent(alpha, gamma, epsilon)\n",
    "\n",
    "    for episode in range(n_episodes):\n",
    "        #print(\"\\nEpisode\\n\")\n",
    "        reward = 0\n",
    "        env = Tictactoe_Q()\n",
    "        players = [\"Q\", \"R\"]\n",
    "        random.shuffle(players)\n",
    "        i = 0\n",
    "        while not env.is_done():\n",
    "            player = players[i % 2]\n",
    "            #print(player, \"'s turn\")\n",
    "            state = env.board\n",
    "            #env.print_board()\n",
    "            available_actions = env.get_available_actions()\n",
    "\n",
    "            if player == \"Q\":\n",
    "                chosen_action = q_agent.choose_action(available_actions, tuple(state))\n",
    "            else:\n",
    "                chosen_action = random_agent.choose_action(available_actions)\n",
    "\n",
    "            env.make_move(player, chosen_action)\n",
    "            winner = env.check_win()\n",
    "            if winner != None:\n",
    "                #print(\"Winner:\", winner)\n",
    "                if winner == 0:\n",
    "                    reward = 0\n",
    "                    reward_array[episode] += 0\n",
    "                elif winner == 1:\n",
    "                    reward = 1\n",
    "                    reward_array[episode] += 1\n",
    "                elif winner == 2:\n",
    "                    reward = -1\n",
    "                    reward_array[episode] += -1\n",
    "        \n",
    "                q_agent.updateQ(tuple(state), reward, available_actions)\n",
    "                \n",
    "            i += 1\n",
    "    \n",
    "    Q_array.append(q_agent.Q)\n",
    "\n",
    "#print(reward_array)            \n",
    "\n",
    "cum_reward_array = np.cumsum(reward_array)\n",
    "\n",
    "#print(q_agent.Q)\n",
    "\n",
    "average_returns = np.zeros(n_episodes)\n",
    "for i in range(0, n_episodes):\n",
    "    average_returns[i] = (cum_reward_array[i] / 10) / (i + 1)\n",
    "\n",
    "plt.plot(average_returns, color=\"blue\", label=\"Average\")\n",
    "plt.xlabel(\"Episode\")\n",
    "plt.ylabel(\"Average return\")\n",
    "plt.legend()\n",
    "plt.show()"
   ]
  },
  {
   "cell_type": "markdown",
   "metadata": {
    "collapsed": true,
    "deletable": false,
    "nbgrader": {
     "checksum": "5b3cb329a272bc823710306a6bf5ebf2",
     "grade": true,
     "grade_id": "cell-1c1d953aaae5bfb7",
     "locked": false,
     "points": 40,
     "schema_version": 1,
     "solution": true
    }
   },
   "source": [
    "Discuss the learning curves here in 10 sentences or less.\n"
   ]
  }
 ],
 "metadata": {
  "kernelspec": {
   "display_name": "Python 3",
   "language": "python",
   "name": "python3"
  },
  "language_info": {
   "codemirror_mode": {
    "name": "ipython",
    "version": 3
   },
   "file_extension": ".py",
   "mimetype": "text/x-python",
   "name": "python",
   "nbconvert_exporter": "python",
   "pygments_lexer": "ipython3",
   "version": "3.6.3"
  }
 },
 "nbformat": 4,
 "nbformat_minor": 2
}
