{
 "cells": [
  {
   "cell_type": "markdown",
   "metadata": {},
   "source": [
    "# CM 50270 Reinforcement Learning: Coursework 2 \n",
    "\n",
    "**Date set:** March 12, 2018 \n",
    "\n",
    "**Date due:** 8 pm on March 21, 2018 \n",
    "\n",
    "**Total number of marks:** 100. (This coursework will determine 20% of your final grade for CM 50270.)\n",
    "\n",
    "**What to submit:** Completed Jupyter notebook (.ipynb file) that includes all source code. Please do not change the file name.\n",
    "\n",
    "**Where to submit:** CM50270 Moodle page\n",
    "\n",
    "This coursework will be __marked anonymously__. Please do not include any identifying information on the files you submit. \n",
    "\n",
    "You are required to __work individually__. You are welcome to discuss ideas with others but you must design your own implementation and write your own code.\n",
    "\n",
    "__Do not plagiarise__. Plagiarism is a serious academic offence. For details on what it is and how to avoid it, please visit the following webpage: http://www.bath.ac.uk/library/help/infoguides/plagiarism.html\n",
    "\n",
    "Restart the kernel and run all cells before submitting the notebook. This will guarantee that we will be able to run your code for testing.\n",
    "\n",
    "Remember to save your work regularly. "
   ]
  },
  {
   "cell_type": "markdown",
   "metadata": {},
   "source": [
    "## Exercise 1: Blackjack (20 marks)\n",
    "\n",
    "In this first exercise, you will implement **Monte Carlo Policy Evaluation (MCPE)** to learn the state-value function $V(s)$ for a given policy in the game of [blackjack](https://en.wikipedia.org/wiki/Blackjack)."
   ]
  },
  {
   "cell_type": "markdown",
   "metadata": {},
   "source": [
    "### The game\n",
    "\n",
    "**Rules.** We will use the version of the game discussed in the lectures where a single player (the agent) plays against the dealer. The player's objective is to obtain cards whose sum is as large as possible without exceeding 21. All face cards count as 10; an ace can count as either 1 or 11.\n",
    "\n",
    "The game begins with two cards dealt to both the dealer and the player. The first of the dealer’s cards is face down and the second is face up. If the player has 21 immediately (for example, an ace and a face card), it is called a \"blackjack\". The player then wins unless the dealer also has a blackjack, in which case the game is a draw. If the player does not have a blackjack, then she can request additional cards, one by one (_hits_), until she either stops (_sticks_) or exceeds 21 (_goes bust_). If the player goes bust, she loses; if she sticks, then it becomes the dealer’s turn. \n",
    "\n",
    "The dealer hits or sticks according to a fixed strategy without choice: he sticks on any sum of 17 or greater, hits otherwise. If the dealer goes bust, then the player wins; otherwise, the outcome (win, lose, or draw) is determined by whose final sum is closer to 21.\n",
    "\n",
    "**MDP formulation.** Playing blackjack is naturally formulated as an episodic finite MDP. Each game of blackjack is an episode. Rewards of +1, −1, and 0 are given for winning, losing, and drawing, respectively. All rewards until the end of the game are zero. We do not discount ($\\gamma = 1$); therefore these terminal rewards are also the returns. The player’s actions are to `\"hit\"` or to `\"stick\"`. \n",
    "\n",
    "The states depend on the player’s cards and the dealer’s showing card. Assume that cards are dealt from an infinite deck (that is, with replacement) so that there is no advantage to keeping track of the cards already dealt. If the player holds an ace that she could count as 11 without going bust, then the ace is said to be _usable_. In this case it is always counted as 11 because counting it as 1 would make the sum 11 or less, in which case there is no decision to be made because, obviously, the player should always hit. Thus, the player makes decisions on the basis of three variables: \n",
    "- the player's current sum (an integer between 12 and 21);\n",
    "- the dealer’s one showing card (an integer between 1 and 10; note that the ace is counted as 1 here); and\n",
    "- whether or not the player holds a usable ace (a boolean). \n",
    "\n",
    "This makes for a total of 200 states. We represent the state as a numpy-array of length 3 that combines the just mentioned three variables in the given order. For example, if the player is given a 6 and a _jack_, and the dealer's showing card is an ace, the corresponding state will be the numpy array `[16, 1, False]`. The terminal state of the game will be denoted by the numpy array `[-1, -1, -1]`."
   ]
  },
  {
   "cell_type": "markdown",
   "metadata": {},
   "source": [
    "###  Blackjack code you may use if you wish\n",
    "\n",
    "** Please feel free to skip this section and implement your own blackjack code **\n",
    "\n",
    "We provide a `Blackjack` class that you can use to simulate blackjack games. The following cells in this section will walk you through the basic usage of this class by playing a couple of blackjack games.  \n",
    "\n",
    "We import the blackjack module and create a blackjack environmnet called `env`. The constructor method has one argument called `verbose`. If `verbose=True`, the blackjack object will regularly print the progress of the game. This is useful for getting to know the game and the provided code or if you just want to play around. You may want to set `verbose=False` when you run thousands of episodes to complete the exercise below."
   ]
  },
  {
   "cell_type": "code",
   "execution_count": 1,
   "metadata": {
    "collapsed": true
   },
   "outputs": [],
   "source": [
    "import blackjack\n",
    "env = blackjack.Blackjack(verbose=True)"
   ]
  },
  {
   "cell_type": "markdown",
   "metadata": {},
   "source": [
    "You can interact with the blackjack environment using the `make_step()` method. This method takes an `action` as input and computes the response of the environment. Specifically, this method returns the resulting `new_state` and the corresponding `reward` signal.\n",
    "\n",
    "Before the player can perform actions, we have to start the game (e.g., draw starting hands). In order to start or reset a blackjack game, call the `make_step()` without specifying a specific action or by setting `action=\"reset\"`.\n",
    "\n",
    "We will now walk through several example games. We will specify a [random seed](https://en.wikipedia.org/wiki/Random_seed) for the NumPy pseudo random number generator every time before we reset the game. This allows us to keep these examples reproducible."
   ]
  },
  {
   "cell_type": "code",
   "execution_count": 2,
   "metadata": {},
   "outputs": [
    {
     "name": "stdout",
     "output_type": "stream",
     "text": [
      "The game is reset.\n",
      "Player's cards: [10, 10]\n",
      "Dealer's showing card: [7]\n",
      "Initial state: [20  7  0]\n",
      "Reward: 0\n"
     ]
    }
   ],
   "source": [
    "import numpy as np\n",
    "np.random.seed(8)\n",
    "new_state, reward = env.make_step(action=\"reset\")\n",
    "print(\"Initial state:\", new_state)\n",
    "print(\"Reward:\", reward)"
   ]
  },
  {
   "cell_type": "markdown",
   "metadata": {},
   "source": [
    "The player drew two cards with face value 10 each. The dealer also drew two cards, but we can only see the second card, a 7. The player now can choose to \"hit\" or \"stick\". Most players would stick if they had 20 on their hand. We call again the `make_step()` method and specify `action=\"stick\"`."
   ]
  },
  {
   "cell_type": "code",
   "execution_count": 3,
   "metadata": {},
   "outputs": [
    {
     "name": "stdout",
     "output_type": "stream",
     "text": [
      "The dealer's cards are: [10, 7]\n",
      "The dealer has 17 points.\n",
      "PLAYER WINS!\n",
      "The player obtains a reward of 1\n",
      "The new (terminal) state is: [-1 -1 -1]\n"
     ]
    }
   ],
   "source": [
    "new_state, reward = env.make_step(action = \"stick\")\n",
    "print(\"The player obtains a reward of\", reward)\n",
    "print(\"The new (terminal) state is:\", new_state)"
   ]
  },
  {
   "cell_type": "markdown",
   "metadata": {},
   "source": [
    "The player won and received a reward of 1. Whenever an episode ends, the environment object sets the internal variable `self.active` to `False`. This variable is set to `True` again when we _reset_ the game. You can use the `self.active` variable to check whether an episode has ended or not."
   ]
  },
  {
   "cell_type": "code",
   "execution_count": 4,
   "metadata": {},
   "outputs": [
    {
     "name": "stdout",
     "output_type": "stream",
     "text": [
      "The game is reset.\n",
      "Player's cards: [11, 7]\n",
      "Dealer's showing card: [2]\n",
      "New state: [18  2  1]\n"
     ]
    }
   ],
   "source": [
    "np.random.seed(9)\n",
    "new_state, reward = env.make_step(action=\"reset\")\n",
    "print(\"New state:\", new_state)"
   ]
  },
  {
   "cell_type": "markdown",
   "metadata": {},
   "source": [
    "The player has already 18 points but has a _usable ace_, which she can transfer into a 1 whenever she would _go bust_. The player can thus \"hit\" and hope that she gets closer to 21. "
   ]
  },
  {
   "cell_type": "code",
   "execution_count": 5,
   "metadata": {},
   "outputs": [
    {
     "name": "stdout",
     "output_type": "stream",
     "text": [
      "Player draws card: [2]\n",
      "New sum of player's cards: [20]\n"
     ]
    }
   ],
   "source": [
    "new_state, reward = env.make_step(action = \"hit\")"
   ]
  },
  {
   "cell_type": "markdown",
   "metadata": {},
   "source": [
    "Great! The player got another 2 points and has again 20 points. The player would probably want to \"stick\" again..."
   ]
  },
  {
   "cell_type": "code",
   "execution_count": 6,
   "metadata": {},
   "outputs": [
    {
     "name": "stdout",
     "output_type": "stream",
     "text": [
      "The dealer's cards are: [7, 2]\n",
      "The dealer has 9 points.\n",
      "Dealer draws card: [3]\n",
      "New dealer sum [12]\n",
      "Dealer draws card: [6]\n",
      "New dealer sum [18]\n",
      "PLAYER WINS!\n"
     ]
    }
   ],
   "source": [
    "new_state, reward = env.make_step(action = \"stick\")"
   ]
  },
  {
   "cell_type": "markdown",
   "metadata": {},
   "source": [
    "The player won again! Let's play a last one."
   ]
  },
  {
   "cell_type": "code",
   "execution_count": 7,
   "metadata": {},
   "outputs": [
    {
     "name": "stdout",
     "output_type": "stream",
     "text": [
      "The game is reset.\n",
      "Player's cards: [11, 10]\n",
      "Dealer's showing card: [10]\n",
      "Player has Blackjack!\n",
      "The dealer's cards are: [6, 10]\n",
      "PLAYER WINS!\n",
      "Reward: 1\n"
     ]
    }
   ],
   "source": [
    "np.random.seed(7)\n",
    "new_state, reward = env.make_step()\n",
    "print(\"Reward:\", reward)"
   ]
  },
  {
   "cell_type": "markdown",
   "metadata": {},
   "source": [
    "The player drew a \"Blackjack\", that is, an ace and a 10. The dealer's cards valued 16. The player won again and received a reward without having performed an action. Try out some more games to get familiar with the code!"
   ]
  },
  {
   "cell_type": "markdown",
   "metadata": {},
   "source": [
    "### Instructions\n",
    "\n",
    "Your task is to learn the state-value function for the policy **\"Stick if the player's sum is 19 or higher, and hit otherwise.\"**. Your code should compute these state values using **Monte Carlo Policy Evaluation (MCPE)**. For your reference, the pseudo-code for MCPE is reproduced below from the textbook (Reinforcement Learning, Sutton & Barto, 1998, Section 5.1).\n",
    "<img src=\"images/MCPE.png\" style=\"width: 400px;\"/>\n",
    "The provided pseudo-code shows _first-visit_ MCPE. No state occurs twice during one game (episode) of Blackjack. In this case, first-visit MCPE and every-visit MCPE are identical.\n",
    "\n",
    "You will have to provide a function `get_state_value(s, v)` that takes as input a state `s` (a numpy array of length 3 as described in the MDP formulation of blackjack) and the state values `v` that you computed. The `get_state_value(s, v)` should return the correponding state value $V(s)$ as a float. There are no restrictions on how you store the state values `v`.\n",
    "\n",
    "We will mark your code by calling `get_state_value(s, v)` for different states valid states `s` in the _test cell_."
   ]
  },
  {
   "cell_type": "code",
   "execution_count": 8,
   "metadata": {
    "deletable": false,
    "nbgrader": {
     "checksum": "7051cb2b547a6f02d56440d85ed9d198",
     "grade": false,
     "grade_id": "cell-a46757fc05631afe",
     "locked": false,
     "schema_version": 1,
     "solution": true
    },
    "scrolled": true
   },
   "outputs": [
    {
     "name": "stdout",
     "output_type": "stream",
     "text": [
      "Complete\n"
     ]
    }
   ],
   "source": [
    "# This cell should compute the state values 'v' using MCPE.\n",
    "import blackjack\n",
    "\n",
    "env = blackjack.Blackjack(verbose=False)\n",
    "\n",
    "def policy(state):\n",
    "    if state[0] >= 19:\n",
    "        action = \"stick\"\n",
    "    else:\n",
    "        action = \"hit\"\n",
    "    return action\n",
    "\n",
    "num_episodes = 25000\n",
    "\n",
    "v = {}\n",
    "\n",
    "for player_sum in range(12, 22):\n",
    "    for dealer_sum in range(1, 11):\n",
    "        for usable_ace in range(0, 2):\n",
    "            v[(player_sum, dealer_sum, usable_ace)] = 0\n",
    "\n",
    "rewards = v.copy()\n",
    "visited_states = v.copy()\n",
    "\n",
    "for episode in range(1, num_episodes + 1):\n",
    "    state, _ = env.make_step(action=\"reset\")\n",
    "    while state[0] != -1:\n",
    "        action = policy(state)\n",
    "        new_state, reward = env.make_step(action)\n",
    "        rewards[tuple(state)] += reward\n",
    "        visited_states[tuple(state)] += 1\n",
    "        state = new_state\n",
    "\n",
    "for key, value in v.items():\n",
    "    v[key] = rewards[key] / visited_states[key]\n",
    "#for key, value in v.items():\n",
    "#    print(\"State: \", key, \"\\tValue: \", value)\n",
    "print(\"Complete\")"
   ]
  },
  {
   "cell_type": "code",
   "execution_count": 9,
   "metadata": {
    "deletable": false,
    "nbgrader": {
     "checksum": "348e28b866f0bc3d77e4ddd1a3c726ee",
     "grade": false,
     "grade_id": "cell-cddecbc6ed38c8c8",
     "locked": false,
     "schema_version": 1,
     "solution": true
    }
   },
   "outputs": [],
   "source": [
    "# Complete the function definition for get_state_value(s,v) in this cell.\n",
    "def get_state_value(s, v):\n",
    "    \n",
    "    state = tuple(s)\n",
    "    value_of_s = v[state]\n",
    "    \n",
    "    return value_of_s\n"
   ]
  },
  {
   "cell_type": "code",
   "execution_count": 10,
   "metadata": {
    "collapsed": true,
    "deletable": false,
    "editable": false,
    "nbgrader": {
     "checksum": "adda36d51c2da2acf4620abdcc6d3d6f",
     "grade": true,
     "grade_id": "cell-3345547d747d76e4",
     "locked": true,
     "points": 20,
     "schema_version": 1,
     "solution": false
    }
   },
   "outputs": [],
   "source": [
    "# This is the TEST CELL for Exercise 1. We will use it to mark your solution. \n",
    "# All of your code for Exercise 1 must be written above this cell. "
   ]
  },
  {
   "cell_type": "markdown",
   "metadata": {},
   "source": [
    "## Exercise 2: Tic-Tac-Toe (80 marks)\n",
    "\n",
    "In this exercise you will implement the game of [Tic-Tac-Toe](https://en.wikipedia.org/wiki/Tic-tac-toe) (also known as _noughts and crosses_) and learn an optimal policy using **Q-learning**. You will then implement **SARSA** and compare the two learning approaches with each other."
   ]
  },
  {
   "cell_type": "markdown",
   "metadata": {},
   "source": [
    "### The game\n",
    "\n",
    "Tic-Tac-Toe is a paper-and-pencil game for two players, O and X, who take turns marking the spaces in a 3×3 grid. The player who succeeds in placing three of their marks in a horizontal, vertical, or diagonal row wins the game. The following example game is won by player X (example from [Wikipedia](https://en.wikipedia.org/wiki/Tic-tac-toe)):\n",
    "<img src=\"images/tic-tac-toe_WIKI.png\" style=\"width: 600px;\"/> "
   ]
  },
  {
   "cell_type": "markdown",
   "metadata": {},
   "source": [
    "### Instructions\n",
    "Implement the game of Tic-Tac-Toe. The first-moving player is randomly chosen at the beginning of each episode. Rewards of +1, −1, and 0 are given for winning, losing, and drawing, respectively. All rewards within a game are zero; do not discount ($\\gamma = 1$). Player X will always be played by a _random agent_. This agent randomly chooses one of the empty grid spaces and marks it with \"X\". You will implement different agents for Player O.\n",
    "\n",
    "We will ask you to plot your results and to discuss the produced plots. Please make sure to **label your figures appropriately**. Please only use plotting packages that come pre-installed with Anaconda 3. We recommend the package `matplotlib` (the tutorial provided in the first lab contains a whole section on matplotlib)."
   ]
  },
  {
   "cell_type": "markdown",
   "metadata": {},
   "source": [
    "### Exercise 2a: Random policy against a random policy (10 marks)\n",
    "Test your Tic-Tac-Toe implementation by letting two random agents play against each other. Plot the cumulative rewards of both O and X as a function of the number of episodes played. "
   ]
  },
  {
   "cell_type": "code",
   "execution_count": 11,
   "metadata": {
    "collapsed": true
   },
   "outputs": [],
   "source": [
    "import numpy as np\n",
    "import random\n",
    "\n",
    "class Tictactoe():\n",
    "    \n",
    "    def __init__(self, board):\n",
    "        self.players = {\"O\": 1, \"X\": 2}\n",
    "        self.winners = np.array([\n",
    "            [0, 1, 2], [3, 4, 5], [6, 7, 8],\n",
    "            [0, 3, 6], [1, 4, 7], [2, 5, 8],\n",
    "            [0, 4, 8], [2, 4, 6]\n",
    "            ])\n",
    "        self.board = np.copy(board)\n",
    "        self.winner = None\n",
    "\n",
    "    def print_board(self):\n",
    "        b = np.reshape(self.board, (3,3))\n",
    "        print(b)\n",
    "\n",
    "    def get_available_actions(self):\n",
    "        valid_moves = []\n",
    "\n",
    "        for i in range(9):\n",
    "            if self.board[i] == 0:\n",
    "                valid_moves.append(i)\n",
    "        \n",
    "        return valid_moves\n",
    "\n",
    "    def make_move(self, player, move):\n",
    "        piece = self.players[player]\n",
    "        self.board[move] = piece\n",
    "    \n",
    "    def get_winner(self):\n",
    "        return self.winner\n",
    "    \n",
    "    def get_reward(self):\n",
    "        if self.winner == 0:\n",
    "            return 0\n",
    "        elif self.winner == 1:\n",
    "            return 1\n",
    "        elif self.winner == 2:\n",
    "            return -1\n",
    "\n",
    "    def is_finished(self):\n",
    "        for _, player in self.players.items():\n",
    "            for row in self.winners:\n",
    "                if all([self.board[cell] == player for cell in row]):\n",
    "                    # A player has won\n",
    "                    self.winner = player\n",
    "                    return True\n",
    "\n",
    "        for i in range(9):\n",
    "            if self.board[i] == 0:\n",
    "                return False # No player has won yet\n",
    "\n",
    "        # Otherwise, game is a draw\n",
    "        self.winner = 0\n",
    "        return True\n"
   ]
  },
  {
   "cell_type": "code",
   "execution_count": 12,
   "metadata": {
    "collapsed": true
   },
   "outputs": [],
   "source": [
    "class RandomAgent():\n",
    "    \n",
    "    def __init__(self):\n",
    "        pass\n",
    "    \n",
    "    def choose_action(self, available_actions):\n",
    "        return random.choice(available_actions)"
   ]
  },
  {
   "cell_type": "code",
   "execution_count": 13,
   "metadata": {},
   "outputs": [
    {
     "data": {
      "image/png": "[encoded data removed]",
      "text/plain": [
       "<matplotlib.figure.Figure at 0x10a91d518>"
      ]
     },
     "metadata": {},
     "output_type": "display_data"
    }
   ],
   "source": [
    "### Your code for Exercise 2a\n",
    "import random\n",
    "import itertools\n",
    "import matplotlib.pyplot as plt\n",
    "%matplotlib inline\n",
    "\n",
    "\n",
    "def play():\n",
    "    board = np.zeros(9, dtype=int)\n",
    "    env = Tictactoe(board)\n",
    "    r = RandomAgent()\n",
    "    p = list(env.players.items())\n",
    "    random.shuffle(p)\n",
    "    for player, _ in itertools.cycle(p):\n",
    "        available_actions = env.get_available_actions()\n",
    "        move = r.choose_action(available_actions)\n",
    "        env.make_move(player, move)\n",
    "        if env.is_finished():\n",
    "            reward = env.get_reward()\n",
    "            return reward\n",
    "\n",
    "num_episodes = 50000\n",
    "\n",
    "results_O = np.zeros(num_episodes)\n",
    "results_X = np.zeros(num_episodes)\n",
    "\n",
    "for episode in range(num_episodes):\n",
    "    reward = play()\n",
    "    if reward == 0:\n",
    "        results_O[episode] = reward\n",
    "        results_X[episode] = reward\n",
    "    elif reward == 1:\n",
    "        results_O[episode] = reward\n",
    "        results_X[episode] = -reward\n",
    "    elif reward == -1:\n",
    "        results_O[episode] = reward\n",
    "        results_X[episode] = -reward\n",
    "\n",
    "cum_results_O = np.cumsum(results_O)\n",
    "cum_results_X = np.cumsum(results_X)\n",
    "\n",
    "plt.plot(cum_results_O, color=\"red\", label=\"Player O\")\n",
    "plt.plot(cum_results_X, color=\"blue\", label=\"Player X\")\n",
    "plt.xlabel(\"Episode\")\n",
    "plt.ylabel(\"Cumulative reward\")\n",
    "plt.legend()\n",
    "plt.show()"
   ]
  },
  {
   "cell_type": "markdown",
   "metadata": {
    "deletable": false,
    "nbgrader": {
     "checksum": "0aae921bb892e1a5feb2970404acf1b6",
     "grade": true,
     "grade_id": "cell-9e4fd5649d4c3263",
     "locked": false,
     "points": 10,
     "schema_version": 1,
     "solution": true
    }
   },
   "source": [
    "In a few sentences, discuss your results. Did you expect these results? Why or why not? (We will mark only the first three sentences. Please do not write any longer than that.) \n",
    "\n",
    "\n",
    "### Answer 2a\n",
    "The cumulative returns of player O and X are equal and opposite, as I expected for Tic-tac-toe which is a zero-sum game. Neither player has a clear advantage as the number of episodes increases, because both players are random and who moves first is also random. It may appear that a player has a short-term advantage if their cumulative reward strays a long way from zero, but this is just random chance and will revert back to zero in the long-run.\n",
    "\n"
   ]
  },
  {
   "cell_type": "markdown",
   "metadata": {},
   "source": [
    "### Exercise 2b: Q-learning (20 marks)\n",
    "Use Q-learning to learn an optimal policy for playing Tic-Tac-Toe against a random opponent. Produce a learning curve for your agent. That is, (1) plot average return as a function of episodes, (2) the learning curve should plot the average return of many agents (please specify how many agents you are averaging). \n",
    "\n",
    "For your reference, the pseudo-code for Q-learning is reproduced below from the textbook (Reinforcement Learning, Sutton & Barto, 1998, Section 6.5).\n",
    "<img src=\"images/q_learning.png\" style=\"width: 600px;\"/>\n",
    " "
   ]
  },
  {
   "cell_type": "code",
   "execution_count": 14,
   "metadata": {
    "collapsed": true
   },
   "outputs": [],
   "source": [
    "class QLearningAgent():\n",
    "    def __init__(self, alpha, gamma, epsilon):\n",
    "        self.alpha = alpha\n",
    "        self.gamma = gamma\n",
    "        self.epsilon = epsilon\n",
    "        self.q = np.zeros((19683, 9))\n",
    "    \n",
    "    def convert(self, state):\n",
    "        conversion_vector = 3 ** np.arange(9)\n",
    "        return int(state.dot(conversion_vector))\n",
    "    \n",
    "    def choose_action(self, available_actions, state):\n",
    "        s = self.convert(state)\n",
    "        \n",
    "        if np.random.uniform(0, 1) < self.epsilon:\n",
    "            action = random.choice(available_actions)\n",
    "            return action\n",
    "        else:\n",
    "            qs = [self.getQ(s, action) for action in available_actions]\n",
    "            maxQ = max(qs)\n",
    "            if qs.count(maxQ) > 1:\n",
    "                best = [i for i in range(len(available_actions)) if qs[i] == maxQ]\n",
    "                i = random.choice(best)\n",
    "            else:\n",
    "                i = qs.index(maxQ)\n",
    "        \n",
    "        action = available_actions[i]\n",
    "        return action\n",
    "    \n",
    "    def getQ(self, state, action):\n",
    "        return self.q[state][action]\n",
    "    \n",
    "    def updateQ(self, state, new_state, reward, action, available_actions):\n",
    "        s = self.convert(state)\n",
    "        s_ = self.convert(new_state)\n",
    "        qs = []\n",
    "        for a in available_actions:\n",
    "            qs.append(self.getQ(s_, a))\n",
    "        if qs:\n",
    "            max_next_Q = max(qs)\n",
    "        else:\n",
    "            max_next_Q = 0.0\n",
    "        self.q[s][action] = ((1 - self.alpha) * self.q[s][action]) + (self.alpha * (reward + self.gamma * max_next_Q))\n"
   ]
  },
  {
   "cell_type": "code",
   "execution_count": 15,
   "metadata": {
    "scrolled": true
   },
   "outputs": [
    {
     "data": {
      "image/png": "[encoded data removed]",
      "text/plain": [
       "<matplotlib.figure.Figure at 0x10ab2fb00>"
      ]
     },
     "metadata": {},
     "output_type": "display_data"
    }
   ],
   "source": [
    "import matplotlib.pyplot as plt\n",
    "%matplotlib inline\n",
    "\n",
    "\n",
    "def play(q_agent, random_agent, n_episodes, board, random_restart=True):\n",
    "    for episode in range(n_episodes):\n",
    "\n",
    "        reward = 0\n",
    "        board = np.copy(board)\n",
    "        env = Tictactoe(board)\n",
    "        #print(env.board)\n",
    "        players = [\"O\", \"X\"]\n",
    "        # Shuffle the players to get a random start\n",
    "        if random_restart:\n",
    "            random.shuffle(players)\n",
    "        \n",
    "        # If first player is the random agent, make a move\n",
    "        if players[0] == \"X\":\n",
    "            available_actions = env.get_available_actions()\n",
    "            action = random_agent.choose_action(available_actions)\n",
    "            env.make_move(\"X\", action)\n",
    "            \n",
    "        while not env.is_finished():\n",
    "            state = np.copy(env.board)\n",
    "            #if (state==np.array([1, 2, 0, 0, 2, 0, 0, 1, 0])).all():\n",
    "            #    print(\"Found the state\")\n",
    "\n",
    "            # Q-learning agent makes a move\n",
    "            available_actions = env.get_available_actions()\n",
    "            action = q_agent.choose_action(available_actions, state)\n",
    "            env.make_move(\"O\", action)\n",
    "            new_state = np.copy(env.board)\n",
    "            \n",
    "            # If game is finished, random agent cannot make a move\n",
    "            if env.is_finished():\n",
    "                reward = env.get_reward()\n",
    "                reward_array_Q[episode] += reward\n",
    "\n",
    "            else:\n",
    "                # Random agent makes a move\n",
    "                available_actions = env.get_available_actions()\n",
    "                chosen_action = random_agent.choose_action(available_actions)\n",
    "                env.make_move(\"X\", chosen_action)\n",
    "                new_state = np.copy(env.board)\n",
    "            \n",
    "                if env.is_finished():\n",
    "                    reward = env.get_reward()\n",
    "                    reward_array_Q[episode] += reward\n",
    "\n",
    "            available_actions = env.get_available_actions()\n",
    "            q_agent.updateQ(state, new_state, reward, action, available_actions)\n",
    "    \n",
    "    return q_agent\n",
    "\n",
    "    \n",
    "alpha = 0.1\n",
    "gamma = 1.0\n",
    "epsilon = 0.05\n",
    "\n",
    "n_episodes = 10000\n",
    "n_agents = 5\n",
    "\n",
    "reward_array_Q = np.zeros(n_episodes)\n",
    "\n",
    "# Game loop for each agent\n",
    "for i in range(n_agents):\n",
    "\n",
    "    random_agent = RandomAgent()\n",
    "    q_agent = QLearningAgent(alpha, gamma, epsilon)\n",
    "    board = np.zeros(9, dtype=int)\n",
    "    play(q_agent, random_agent, n_episodes, board, True)\n",
    "    \n",
    "\n",
    "# Moving average function is not mine and was taken from the following link:\n",
    "# https://stackoverflow.com/questions/14313510/how-to-calculate-moving-average-using-numpy\n",
    "# Credit: Jaime\n",
    "def moving_average(a, n=100) :\n",
    "    ret = np.cumsum(a, dtype=float)\n",
    "    ret[n:] = ret[n:] - ret[:-n]\n",
    "    return ret[n - 1:] / n\n",
    "\n",
    "moving_average_array_Q = moving_average(reward_array_Q) / n_agents\n",
    "\n",
    "plt.plot(moving_average_array_Q, color=\"blue\", label=\"Q-learning\")\n",
    "plt.title(\"Q-learning: Moving average return for \"+ str(n_agents) + \" agents\")\n",
    "plt.xlabel(\"Episode\")\n",
    "plt.ylabel(\"Moving average (100) return\")\n",
    "#plt.legend()\n",
    "plt.show()"
   ]
  },
  {
   "cell_type": "markdown",
   "metadata": {
    "deletable": false,
    "nbgrader": {
     "checksum": "72aafcf5d5929352251f33bf2045b5a5",
     "grade": true,
     "grade_id": "cell-666a718dba214767",
     "locked": false,
     "points": 20,
     "schema_version": 1,
     "solution": true
    }
   },
   "source": [
    "In 3 sentences or less, (1) explain the state representation you used, (2) discuss the learning curve you produced. \n",
    "\n",
    "### Answer 2b\n",
    "\n",
    "My state representation is a numpy array of length 9 in which each value is from the set {0, 1, 2}, where 0 represents empty, 1 represents player O and 2 represents player X. My learning curve shows that the Q-learning agent learns quickly up to around episode 4000-5000 before tailing off to an average return of around 0.7-0.8 (N.B. the average return is shown on the graph as a moving average of size 100). The random nature of the opponent and the exploratory nature of the Q-learning agent epsilon % of the time causes two noticeable effects to the learning curve: (i) the graph is not smooth, and (ii) the average return converges to less than 1 because even with a perfect game the agent will sometimes draw."
   ]
  },
  {
   "cell_type": "markdown",
   "metadata": {},
   "source": [
    "### Exercise 2c: Optimal policy (20 marks)\n",
    "What is the optimal play for the agent in the following state? You must answer by writing a function that takes a state as input and _prints_ the \"after-state\" that would result from playing an optimal action. The printed output can be primitive but the board has to be somewhat recognizable.   <img src=\"images/tic_tac_toe.png\" style=\"width: 80px;\"/> "
   ]
  },
  {
   "cell_type": "code",
   "execution_count": 16,
   "metadata": {},
   "outputs": [
    {
     "name": "stdout",
     "output_type": "stream",
     "text": [
      "[[1 2 0]\n",
      " [0 2 0]\n",
      " [1 1 0]]\n"
     ]
    }
   ],
   "source": [
    "def optimal_policy(state):\n",
    "    qs = []\n",
    "    random_agent = RandomAgent()\n",
    "    q_agent = QLearningAgent(alpha, gamma, epsilon)\n",
    "    board = np.copy(state)\n",
    "    q = play(q_agent, random_agent, n_episodes, board, False)\n",
    "    for i in range(9):\n",
    "        qs.append(q.getQ(q.convert(board), i))\n",
    "    optimal_action = qs.index(max(qs))\n",
    "    board[optimal_action] = 1\n",
    "    print(np.reshape(board, (3,3)))\n",
    "    \n",
    "\n",
    "state = np.array([1, 2, 0, 0, 2, 0, 0, 1, 0])\n",
    "optimal_policy(state)\n",
    "                                  "
   ]
  },
  {
   "cell_type": "markdown",
   "metadata": {
    "deletable": false,
    "nbgrader": {
     "checksum": "46351da3e17c7fa3a0c4c0682a8fc786",
     "grade": true,
     "grade_id": "cell-3cd9113829d5b715",
     "locked": false,
     "points": 20,
     "schema_version": 1,
     "solution": true
    }
   },
   "source": [
    "Please ignore this cell. We will use this cell to mark your answer. \n"
   ]
  },
  {
   "cell_type": "markdown",
   "metadata": {},
   "source": [
    "### Exercise 2d: Sarsa (40 marks)\n",
    "Implement Sarsa to learn how to play Tic-tac-toe against a random player. Produce a learning curve. Also include the learning curve of your previously trained Q-learning agent in the same plot. Discuss the learning curves. For your reference, the pseudo-code for SARSA is reproduced below from the textbook (Reinforcement Learning, Sutton & Barto, 1998, Section 6.4).\n",
    "<img src=\"images/SARSA.png\" style=\"width: 600px;\"/>\n",
    "\n"
   ]
  },
  {
   "cell_type": "code",
   "execution_count": 17,
   "metadata": {
    "collapsed": true
   },
   "outputs": [],
   "source": [
    "class SarsaAgent():\n",
    "    \n",
    "    def __init__(self, alpha, gamma, epsilon):\n",
    "        self.alpha = alpha\n",
    "        self.gamma = gamma\n",
    "        self.epsilon = epsilon\n",
    "        self.q = np.zeros((19683, 9))\n",
    "    \n",
    "    def convert(self, state):\n",
    "        conversion_vector = 3 ** np.arange(9)\n",
    "        return int(state.dot(conversion_vector))\n",
    "    \n",
    "    def choose_action(self, available_actions, state):\n",
    "        s = self.convert(state)\n",
    "        \n",
    "        if np.random.uniform(0, 1) < self.epsilon:\n",
    "            action = random.choice(available_actions)\n",
    "            return action\n",
    "        else:\n",
    "            qs = [self.getQ(s, action) for action in available_actions]\n",
    "            maxQ = max(qs)\n",
    "            if qs.count(maxQ) > 1:\n",
    "                best = [i for i in range(len(available_actions)) if qs[i] == maxQ]\n",
    "                i = random.choice(best)\n",
    "            else:\n",
    "                i = qs.index(maxQ)\n",
    "        \n",
    "        action = available_actions[i]\n",
    "\n",
    "        return action\n",
    "    \n",
    "    \n",
    "    def getQ(self, state, action):\n",
    "        return self.q[state][action]\n",
    "    \n",
    "    def update(self, state, new_state, reward, action, action_):\n",
    "        s = self.convert(state)\n",
    "        s_ = self.convert(new_state)\n",
    "        self.q[s][action] = ((1 - self.alpha) * self.q[s][action]) + (self.alpha * (reward + self.gamma * self.q[s_][action_]))\n"
   ]
  },
  {
   "cell_type": "code",
   "execution_count": 18,
   "metadata": {
    "scrolled": true
   },
   "outputs": [
    {
     "data": {
      "image/png": "[encoded data removed]",
      "text/plain": [
       "<matplotlib.figure.Figure at 0x11431ea20>"
      ]
     },
     "metadata": {},
     "output_type": "display_data"
    }
   ],
   "source": [
    "### Use this cell to produce the learning curve for Exercise 2d\n",
    "import itertools\n",
    "import scipy.signal as scipy\n",
    "import matplotlib.pyplot as plt\n",
    "%matplotlib inline\n",
    "\n",
    "\n",
    "def play(sarsa_agent, random_agent, n_episodes, board):\n",
    "    for episode in range(n_episodes):\n",
    "\n",
    "        reward = 0\n",
    "        board = np.copy(board)\n",
    "        env = Tictactoe(board)\n",
    "        players = [\"O\", \"X\"]\n",
    "        # Shuffle the players to get a random start\n",
    "        random.shuffle(players)\n",
    "        \n",
    "        \n",
    "        # If first player is the random agent, make a move\n",
    "        if players[0] == \"X\":\n",
    "            available_actions = env.get_available_actions()\n",
    "            action = random_agent.choose_action(available_actions)\n",
    "            env.make_move(\"X\", action)\n",
    "            \n",
    "        # Initialise s\n",
    "        state = np.copy(env.board)\n",
    "        #print(np.reshape(state, (3,3)))\n",
    "        \n",
    "        # Choose a\n",
    "        available_actions = env.get_available_actions()\n",
    "        action = sarsa_agent.choose_action(available_actions, state)\n",
    "        #print(action)\n",
    "            \n",
    "        while not env.is_finished():\n",
    "            \n",
    "            # Sarsa-learning agent makes a move\n",
    "            env.make_move(\"O\", action)\n",
    "            # Observe new state\n",
    "            new_state = np.copy(env.board)\n",
    "            #print(np.reshape(new_state, (3,3)))\n",
    "            # Observe reward\n",
    "            if env.is_finished():\n",
    "                reward = env.get_reward()\n",
    "                #print(\"Reward:\", reward)\n",
    "                reward_array_S[episode] += reward\n",
    "            else:\n",
    "\n",
    "                # Random agent makes a move\n",
    "                available_actions = env.get_available_actions()\n",
    "                chosen_action = random_agent.choose_action(available_actions)\n",
    "                #print(chosen_action)\n",
    "                env.make_move(\"X\", chosen_action)\n",
    "                # Observe new state\n",
    "                new_state = np.copy(env.board)\n",
    "                #print(np.reshape(new_state, (3,3)))\n",
    "                if env.is_finished():\n",
    "                    reward = env.get_reward()\n",
    "                    #print(\"Reward:\", reward)\n",
    "                    reward_array_S[episode] += reward\n",
    "                \n",
    "            # Choose a'\n",
    "            available_actions = env.get_available_actions()\n",
    "            if not env.is_finished():\n",
    "                next_action = sarsa_agent.choose_action(available_actions, new_state)\n",
    "            else:\n",
    "                next_action = 0\n",
    "\n",
    "            sarsa_agent.update(state, new_state, reward, action, next_action)\n",
    "            \n",
    "            state = np.copy(new_state)\n",
    "            action = next_action\n",
    "    \n",
    "\n",
    "    \n",
    "alpha = 0.1\n",
    "gamma = 1.0\n",
    "epsilon = 0.05\n",
    "\n",
    "n_episodes = 10000\n",
    "n_agents = 5\n",
    "\n",
    "reward_array_S = np.zeros(n_episodes)\n",
    "\n",
    "# Game loop for each agent\n",
    "for i in range(n_agents):\n",
    "\n",
    "    random_agent = RandomAgent()\n",
    "    sarsa_agent = SarsaAgent(alpha, gamma, epsilon)\n",
    "    board = np.zeros(9, dtype=int)\n",
    "    play(sarsa_agent, random_agent, n_episodes, board)\n",
    "    \n",
    "\n",
    "# Moving average function is not mine and was taken from the following link:\n",
    "# https://stackoverflow.com/questions/14313510/how-to-calculate-moving-average-using-numpy\n",
    "# Credit: Jaime\n",
    "def moving_average(a, n=100) :\n",
    "    ret = np.cumsum(a, dtype=float)\n",
    "    ret[n:] = ret[n:] - ret[:-n]\n",
    "    return ret[n - 1:] / n\n",
    "\n",
    "moving_average_array_Sarsa = moving_average(reward_array_S) / n_agents\n",
    "\n",
    "plt.plot(moving_average_array_Q, color=\"blue\", label=\"Q-learning\")\n",
    "plt.plot(moving_average_array_Sarsa, color=\"orange\", label=\"Sarsa\")\n",
    "plt.title(\"Moving average return for \"+ str(n_agents) + \" agents\")\n",
    "plt.xlabel(\"Episode\")\n",
    "plt.ylabel(\"Moving average (100) return\")\n",
    "plt.legend()\n",
    "plt.show()"
   ]
  },
  {
   "attachments": {
    "comparing_epsilon.png": {
     "image/png": "[encoded data removed]"
    },
    "lots_of_episodes.png": {
     "image/png": "[encoded data removed]"
    }
   },
   "cell_type": "markdown",
   "metadata": {
    "collapsed": true,
    "deletable": false,
    "nbgrader": {
     "checksum": "5b3cb329a272bc823710306a6bf5ebf2",
     "grade": true,
     "grade_id": "cell-1c1d953aaae5bfb7",
     "locked": false,
     "points": 40,
     "schema_version": 1,
     "solution": true
    }
   },
   "source": [
    "Discuss the learning curves here in 10 sentences or less.\n",
    "\n",
    "### Answer 2d\n",
    "\n",
    "Parameters: alpha = 0.1, gamma = 1.0, epsilon = 0.05\n",
    "\n",
    "The learning curves for both agents show increasing average returns with the number of episodes, with a positive, but decreasing gradient. Both agents learn at a similar rate, with a short period at the beginning where the majority of moves are random since the non-zero Q-value updates have not propagated yet. The average returns level out for both agents at around 0.7-0.8 at 5000-6000 episodes, which implies both agents have learnt the optimal policy at this point. Consequently, it is not worth increasing the number of episodes greatly as this will have very little effect on the average return and any variation is likely to be random noise (see Figure 1 which shows this plateau from 5000 episodes onwards for Sarsa). The high similarity of the learning curves indicates that off-policy (Q-learning) and on-policy (Sarsa) learning are no better than each other for Tic-Tac-Toe. Furthermore, the learning curves are not smooth because of two factors: (i) playing against a random agent, and (ii) exploratory moves when epsilon > 0. These sources of randomness are also what causes the average return to not be equal to 1 once the agent's policy has converged to the optimal policy. Interestingly, lowering epsilon causes the average return to increase and the variation in returns to decrease (see Figure 2) as the randomness is reduced. In addition, it is worth noting that I have used a moving average of size 100 in order to help smooth the graph out, which helps to draw inferences as the 'noise' is reduced via this averaging. Lastly, if I had more time I would have incorporated afterstates into my code design, which would likely have made the learning more efficient since many state-action pairs are symmetrical in Tic-Tac-Toe.\n",
    "\n",
    "![lots_of_episodes.png](attachment:lots_of_episodes.png)\n",
    "![comparing_epsilon.png](attachment:comparing_epsilon.png)"
   ]
  },
  {
   "cell_type": "code",
   "execution_count": null,
   "metadata": {
    "collapsed": true
   },
   "outputs": [],
   "source": []
  }
 ],
 "metadata": {
  "kernelspec": {
   "display_name": "Python 3",
   "language": "python",
   "name": "python3"
  },
  "language_info": {
   "codemirror_mode": {
    "name": "ipython",
    "version": 3
   },
   "file_extension": ".py",
   "mimetype": "text/x-python",
   "name": "python",
   "nbconvert_exporter": "python",
   "pygments_lexer": "ipython3",
   "version": "3.6.3"
  }
 },
 "nbformat": 4,
 "nbformat_minor": 2
}
